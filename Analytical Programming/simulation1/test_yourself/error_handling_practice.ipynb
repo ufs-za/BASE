{
  "nbformat": 4,
  "nbformat_minor": 0,
  "metadata": {
    "colab": {
      "provenance": []
    },
    "kernelspec": {
      "name": "python3",
      "display_name": "Python 3"
    },
    "language_info": {
      "name": "python"
    }
  },
  "cells": [
    {
      "cell_type": "markdown",
      "source": [
        "# Test yourself\n",
        "\n",
        "The code below is an outline of some errors you may encounter that can be solved with the try, except, finally logic.\n",
        "\n",
        "Try to solve the problems below using these functions in the format:\n",
        "\n",
        "try:\n",
        "    \n",
        "    *Some statement/logic*\n",
        "\n",
        "except **some error**:\n",
        "   \n",
        "    print(\"Some description\")\n",
        "\n",
        "finally:\n",
        "    \n",
        "    print(\"Some description\")\n",
        "\n",
        "\n",
        "Remember indentation is important\n",
        "\n",
        "\n",
        "\n",
        "\n",
        "   "
      ],
      "metadata": {
        "id": "1w6HHknZgqu4"
      }
    },
    {
      "cell_type": "code",
      "execution_count": null,
      "metadata": {
        "id": "kwj_nZvYf74Z"
      },
      "outputs": [],
      "source": [
        "result = 10 / 0"
      ]
    },
    {
      "cell_type": "code",
      "source": [
        "my_list = [1, 2, 3]\n",
        "print(my_list[5])"
      ],
      "metadata": {
        "id": "w6olPSTggX42"
      },
      "execution_count": null,
      "outputs": []
    },
    {
      "cell_type": "code",
      "source": [
        "x = \"The number is: \" + 7"
      ],
      "metadata": {
        "id": "HLnDdYMIgX8I"
      },
      "execution_count": null,
      "outputs": []
    },
    {
      "cell_type": "code",
      "source": [
        "with open(\"missingfile.txt\", \"r\") as f:\n",
        "    data = f.read()"
      ],
      "metadata": {
        "id": "i5GPzHUGgX-Y"
      },
      "execution_count": null,
      "outputs": []
    },
    {
      "cell_type": "code",
      "source": [
        "person = {\"name\": \"John\"}\n",
        "print(person[\"age\"])"
      ],
      "metadata": {
        "id": "EB91uho8gYAm"
      },
      "execution_count": null,
      "outputs": []
    },
    {
      "cell_type": "code",
      "source": [
        "my_var = None\n",
        "my_var.lower()"
      ],
      "metadata": {
        "id": "WsjewruQgYC-"
      },
      "execution_count": null,
      "outputs": []
    },
    {
      "cell_type": "code",
      "source": [
        "num = int(\"hello\")"
      ],
      "metadata": {
        "id": "P914jXyngYEi"
      },
      "execution_count": null,
      "outputs": []
    },
    {
      "cell_type": "code",
      "source": [
        "import not_a_module"
      ],
      "metadata": {
        "id": "3aAaKehDgYG4"
      },
      "execution_count": null,
      "outputs": []
    },
    {
      "cell_type": "code",
      "source": [
        "def loop():\n",
        "    return loop()\n",
        "loop()"
      ],
      "metadata": {
        "id": "m5S_b56ngYIh"
      },
      "execution_count": null,
      "outputs": []
    },
    {
      "cell_type": "code",
      "source": [
        "class Cat:\n",
        "    def meow(self):\n",
        "        print(\"Meow!\")\n",
        "\n",
        "kitty = Cat()\n",
        "kitty.bark()"
      ],
      "metadata": {
        "id": "UUpE1LybgYOg"
      },
      "execution_count": null,
      "outputs": []
    }
  ]
}